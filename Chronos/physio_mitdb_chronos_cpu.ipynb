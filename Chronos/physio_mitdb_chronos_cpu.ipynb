{
 "cells": [
  {
   "cell_type": "code",
   "execution_count": 5,
   "metadata": {},
   "outputs": [],
   "source": [
    "isMac = False"
   ]
  },
  {
   "cell_type": "code",
   "execution_count": 6,
   "metadata": {},
   "outputs": [],
   "source": [
    "# for plotting, run: pip install pandas matplotlib\n",
    "import matplotlib.pyplot as plt\n",
    "import numpy as np\n",
    "import os\n",
    "import pandas as pd\n",
    "from scipy.signal import medfilt, sosfilt, ellip, iirnotch, freqz, filtfilt\n",
    "from sklearn.preprocessing import MinMaxScaler\n",
    "\n",
    "import wfdb\n",
    "!pip install -q gluonts\n",
    "\n",
    "from gluonts.dataset.pandas import PandasDataset"
   ]
  },
  {
   "cell_type": "code",
   "execution_count": 7,
   "metadata": {},
   "outputs": [],
   "source": [
    "if isMac:\n",
    "    from chronos_mlx import ChronosPipeline\n",
    "    pipeline = ChronosPipeline.from_pretrained(\n",
    "    \"amazon/chronos-t5-small\",\n",
    "    dtype=\"bfloat16\",\n",
    "    )\n",
    "else:\n",
    "    import torch\n",
    "    from chronos import ChronosPipeline\n",
    "    pipeline = ChronosPipeline.from_pretrained(\n",
    "    \"amazon/chronos-t5-small\",\n",
    "    device_map=\"cpu\",  # use \"cpu\" for CPU inference and \"mps\" for Apple Silicon\n",
    "    torch_dtype=torch.bfloat16,\n",
    "    )"
   ]
  },
  {
   "cell_type": "code",
   "execution_count": 9,
   "metadata": {},
   "outputs": [
    {
     "data": {
      "text/plain": [
       "['/data-source.txt']"
      ]
     },
     "execution_count": 9,
     "metadata": {},
     "output_type": "execute_result"
    }
   ],
   "source": [
    "data_dir = '../data/mitdb'\n",
    "\n",
    "np.random.seed(0)\n",
    "random_file_choice = ['/'+x for x in np.random.choice(os.listdir(data_dir), min(len(os.listdir(data_dir)), 10), replace=False)]\n",
    "random_file_choice"
   ]
  },
  {
   "cell_type": "code",
   "execution_count": 10,
   "metadata": {},
   "outputs": [
    {
     "data": {
      "text/plain": [
       "[]"
      ]
     },
     "execution_count": 10,
     "metadata": {},
     "output_type": "execute_result"
    }
   ],
   "source": [
    "filename_list = list(set([x[:-4] for x in random_file_choice if x[:-4] + '.dat' in random_file_choice]))\n",
    "filename_list"
   ]
  },
  {
   "cell_type": "code",
   "execution_count": 11,
   "metadata": {},
   "outputs": [],
   "source": [
    "for filename_base in filename_list:\n",
    "    file_path = data_dir + filename_base\n",
    "\n",
    "    record = wfdb.rdrecord(file_path)\n",
    "\n",
    "    # plot the record to screen\n",
    "    wfdb.plot_wfdb(record=record, title=f'{filename_base[1:]}')"
   ]
  },
  {
   "cell_type": "code",
   "execution_count": 12,
   "metadata": {},
   "outputs": [
    {
     "ename": "NameError",
     "evalue": "name 'record' is not defined",
     "output_type": "error",
     "traceback": [
      "\u001b[0;31m---------------------------------------------------------------------------\u001b[0m",
      "\u001b[0;31mNameError\u001b[0m                                 Traceback (most recent call last)",
      "Cell \u001b[0;32mIn[12], line 3\u001b[0m\n\u001b[1;32m      1\u001b[0m \u001b[38;5;66;03m# Raw Data Representation\u001b[39;00m\n\u001b[0;32m----> 3\u001b[0m MLII \u001b[38;5;241m=\u001b[39m \u001b[43mrecord\u001b[49m\u001b[38;5;241m.\u001b[39mto_dataframe()[[\u001b[38;5;124m'\u001b[39m\u001b[38;5;124mMLII\u001b[39m\u001b[38;5;124m'\u001b[39m]]\n\u001b[1;32m      4\u001b[0m display(MLII)\n\u001b[1;32m      5\u001b[0m plt\u001b[38;5;241m.\u001b[39mplot(MLII)\n",
      "\u001b[0;31mNameError\u001b[0m: name 'record' is not defined"
     ]
    }
   ],
   "source": [
    "# Raw Data Representation\n",
    "\n",
    "MLII = record.to_dataframe()[['MLII']]\n",
    "display(MLII)\n",
    "plt.plot(MLII)"
   ]
  },
  {
   "cell_type": "code",
   "execution_count": 13,
   "metadata": {},
   "outputs": [
    {
     "ename": "NameError",
     "evalue": "name 'MLII' is not defined",
     "output_type": "error",
     "traceback": [
      "\u001b[0;31m---------------------------------------------------------------------------\u001b[0m",
      "\u001b[0;31mNameError\u001b[0m                                 Traceback (most recent call last)",
      "Cell \u001b[0;32mIn[13], line 1\u001b[0m\n\u001b[0;32m----> 1\u001b[0m MLII_quantiles \u001b[38;5;241m=\u001b[39m np\u001b[38;5;241m.\u001b[39mquantile(\u001b[43mMLII\u001b[49m, [\u001b[38;5;241m0.00005\u001b[39m,\u001b[38;5;241m0.99995\u001b[39m])\n\u001b[1;32m      2\u001b[0m MLII[((MLII\u001b[38;5;241m>\u001b[39mMLII_quantiles[\u001b[38;5;241m0\u001b[39m]) \u001b[38;5;241m|\u001b[39m (MLII\u001b[38;5;241m<\u001b[39mMLII_quantiles[\u001b[38;5;241m1\u001b[39m]))]\n\u001b[1;32m      4\u001b[0m MLII \u001b[38;5;241m=\u001b[39m MLII[((MLII\u001b[38;5;241m>\u001b[39mMLII_quantiles[\u001b[38;5;241m0\u001b[39m]) \u001b[38;5;241m&\u001b[39m (MLII\u001b[38;5;241m<\u001b[39mMLII_quantiles[\u001b[38;5;241m1\u001b[39m]))]\u001b[38;5;241m.\u001b[39mffill()\n",
      "\u001b[0;31mNameError\u001b[0m: name 'MLII' is not defined"
     ]
    }
   ],
   "source": [
    "\n",
    "MLII_quantiles = np.quantile(MLII, [0.00005,0.99995])\n",
    "MLII[((MLII>MLII_quantiles[0]) | (MLII<MLII_quantiles[1]))]\n",
    "\n",
    "MLII = MLII[((MLII>MLII_quantiles[0]) & (MLII<MLII_quantiles[1]))].ffill()\n",
    "plt.plot(MLII)"
   ]
  },
  {
   "cell_type": "code",
   "execution_count": 14,
   "metadata": {},
   "outputs": [
    {
     "ename": "NameError",
     "evalue": "name 'MLII' is not defined",
     "output_type": "error",
     "traceback": [
      "\u001b[0;31m---------------------------------------------------------------------------\u001b[0m",
      "\u001b[0;31mNameError\u001b[0m                                 Traceback (most recent call last)",
      "Cell \u001b[0;32mIn[14], line 3\u001b[0m\n\u001b[1;32m      1\u001b[0m \u001b[38;5;66;03m# With Simple Moving Average (3 frame window)\u001b[39;00m\n\u001b[0;32m----> 3\u001b[0m MLII_SMA \u001b[38;5;241m=\u001b[39m \u001b[43mMLII\u001b[49m\u001b[38;5;241m.\u001b[39mrolling(\u001b[38;5;241m3\u001b[39m)\u001b[38;5;241m.\u001b[39mmean()\n\u001b[1;32m      4\u001b[0m plt\u001b[38;5;241m.\u001b[39mplot(MLII_SMA)\n",
      "\u001b[0;31mNameError\u001b[0m: name 'MLII' is not defined"
     ]
    }
   ],
   "source": [
    "# With Simple Moving Average (3 frame window)\n",
    "\n",
    "MLII_SMA = MLII.rolling(3).mean()\n",
    "plt.plot(MLII_SMA)"
   ]
  },
  {
   "cell_type": "code",
   "execution_count": 15,
   "metadata": {},
   "outputs": [
    {
     "ename": "NameError",
     "evalue": "name 'MLII_SMA' is not defined",
     "output_type": "error",
     "traceback": [
      "\u001b[0;31m---------------------------------------------------------------------------\u001b[0m",
      "\u001b[0;31mNameError\u001b[0m                                 Traceback (most recent call last)",
      "Cell \u001b[0;32mIn[15], line 3\u001b[0m\n\u001b[1;32m      1\u001b[0m \u001b[38;5;66;03m# With median filtering\u001b[39;00m\n\u001b[0;32m----> 3\u001b[0m MLII_medfilt \u001b[38;5;241m=\u001b[39m medfilt((\u001b[43mMLII_SMA\u001b[49m)\u001b[38;5;241m.\u001b[39mvalues\u001b[38;5;241m.\u001b[39mflatten(),\u001b[38;5;241m3\u001b[39m)\n\u001b[1;32m      4\u001b[0m MLII_medfilt \u001b[38;5;241m=\u001b[39m pd\u001b[38;5;241m.\u001b[39mSeries(MLII_medfilt)\u001b[38;5;241m.\u001b[39mbfill()\n\u001b[1;32m      5\u001b[0m plt\u001b[38;5;241m.\u001b[39mplot(MLII_medfilt)\n",
      "\u001b[0;31mNameError\u001b[0m: name 'MLII_SMA' is not defined"
     ]
    }
   ],
   "source": [
    "# With median filtering\n",
    "\n",
    "MLII_medfilt = medfilt((MLII_SMA).values.flatten(),3)\n",
    "MLII_medfilt = pd.Series(MLII_medfilt).bfill()\n",
    "plt.plot(MLII_medfilt)"
   ]
  },
  {
   "cell_type": "code",
   "execution_count": 16,
   "metadata": {},
   "outputs": [
    {
     "ename": "NameError",
     "evalue": "name 'MLII_medfilt' is not defined",
     "output_type": "error",
     "traceback": [
      "\u001b[0;31m---------------------------------------------------------------------------\u001b[0m",
      "\u001b[0;31mNameError\u001b[0m                                 Traceback (most recent call last)",
      "Cell \u001b[0;32mIn[16], line 4\u001b[0m\n\u001b[1;32m      1\u001b[0m \u001b[38;5;66;03m# With second-order section filter\u001b[39;00m\n\u001b[1;32m      3\u001b[0m sos \u001b[38;5;241m=\u001b[39m ellip(N \u001b[38;5;241m=\u001b[39m \u001b[38;5;241m2\u001b[39m, rp \u001b[38;5;241m=\u001b[39m \u001b[38;5;241m0.09\u001b[39m, rs \u001b[38;5;241m=\u001b[39m \u001b[38;5;241m80\u001b[39m, Wn \u001b[38;5;241m=\u001b[39m \u001b[38;5;241m0.09\u001b[39m, output\u001b[38;5;241m=\u001b[39m\u001b[38;5;124m'\u001b[39m\u001b[38;5;124msos\u001b[39m\u001b[38;5;124m'\u001b[39m)\n\u001b[0;32m----> 4\u001b[0m MLII_sos \u001b[38;5;241m=\u001b[39m sosfilt(sos, \u001b[43mMLII_medfilt\u001b[49m)\n\u001b[1;32m      5\u001b[0m plt\u001b[38;5;241m.\u001b[39mplot(MLII_sos)\n",
      "\u001b[0;31mNameError\u001b[0m: name 'MLII_medfilt' is not defined"
     ]
    }
   ],
   "source": [
    "# With second-order section filter\n",
    "\n",
    "sos = ellip(N = 2, rp = 0.09, rs = 80, Wn = 0.09, output='sos')\n",
    "MLII_sos = sosfilt(sos, MLII_medfilt)\n",
    "plt.plot(MLII_sos)"
   ]
  },
  {
   "cell_type": "code",
   "execution_count": 17,
   "metadata": {},
   "outputs": [
    {
     "ename": "NameError",
     "evalue": "name 'MLII_sos' is not defined",
     "output_type": "error",
     "traceback": [
      "\u001b[0;31m---------------------------------------------------------------------------\u001b[0m",
      "\u001b[0;31mNameError\u001b[0m                                 Traceback (most recent call last)",
      "Cell \u001b[0;32mIn[17], line 13\u001b[0m\n\u001b[1;32m      9\u001b[0m \u001b[38;5;66;03m# Design notch filter\u001b[39;00m\n\u001b[1;32m     11\u001b[0m b_notch, a_notch \u001b[38;5;241m=\u001b[39m iirnotch(f0, Q, fs)\n\u001b[0;32m---> 13\u001b[0m MLII_notch \u001b[38;5;241m=\u001b[39m filtfilt(b_notch, a_notch, \u001b[43mMLII_sos\u001b[49m)\n\u001b[1;32m     14\u001b[0m plt\u001b[38;5;241m.\u001b[39mplot(MLII_notch)\n",
      "\u001b[0;31mNameError\u001b[0m: name 'MLII_sos' is not defined"
     ]
    }
   ],
   "source": [
    "# Remove 60Hz analog-digital conversion tone from signal\n",
    "\n",
    "fs = 360.0  # Sample frequency (Hz)\n",
    "\n",
    "f0 = 60.0  # Frequency to be removed from signal (Hz)\n",
    "\n",
    "Q = 30.0  # Quality factor\n",
    "\n",
    "# Design notch filter\n",
    "\n",
    "b_notch, a_notch = iirnotch(f0, Q, fs)\n",
    "\n",
    "MLII_notch = filtfilt(b_notch, a_notch, MLII_sos)\n",
    "plt.plot(MLII_notch)"
   ]
  },
  {
   "cell_type": "code",
   "execution_count": 18,
   "metadata": {},
   "outputs": [
    {
     "ename": "NameError",
     "evalue": "name 'MLII_notch' is not defined",
     "output_type": "error",
     "traceback": [
      "\u001b[0;31m---------------------------------------------------------------------------\u001b[0m",
      "\u001b[0;31mNameError\u001b[0m                                 Traceback (most recent call last)",
      "Cell \u001b[0;32mIn[18], line 5\u001b[0m\n\u001b[1;32m      1\u001b[0m \u001b[38;5;66;03m# Normalize for (0,1)\u001b[39;00m\n\u001b[1;32m      3\u001b[0m scaler \u001b[38;5;241m=\u001b[39m MinMaxScaler()\n\u001b[0;32m----> 5\u001b[0m MLII_minmax \u001b[38;5;241m=\u001b[39m scaler\u001b[38;5;241m.\u001b[39mfit_transform(\u001b[43mMLII_notch\u001b[49m\u001b[38;5;241m.\u001b[39mreshape((\u001b[38;5;241m-\u001b[39m\u001b[38;5;241m1\u001b[39m,\u001b[38;5;241m1\u001b[39m)))\u001b[38;5;241m.\u001b[39mflatten()\n\u001b[1;32m      6\u001b[0m plt\u001b[38;5;241m.\u001b[39mplot(MLII_minmax)\n",
      "\u001b[0;31mNameError\u001b[0m: name 'MLII_notch' is not defined"
     ]
    }
   ],
   "source": [
    "# Normalize for (0,1)\n",
    "\n",
    "scaler = MinMaxScaler()\n",
    "\n",
    "MLII_minmax = scaler.fit_transform(MLII_notch.reshape((-1,1))).flatten()\n",
    "plt.plot(MLII_minmax)"
   ]
  },
  {
   "cell_type": "code",
   "execution_count": 19,
   "metadata": {},
   "outputs": [
    {
     "ename": "NameError",
     "evalue": "name 'MLII' is not defined",
     "output_type": "error",
     "traceback": [
      "\u001b[0;31m---------------------------------------------------------------------------\u001b[0m",
      "\u001b[0;31mNameError\u001b[0m                                 Traceback (most recent call last)",
      "Cell \u001b[0;32mIn[19], line 3\u001b[0m\n\u001b[1;32m      1\u001b[0m \u001b[38;5;66;03m#Show difference from original and processed signal\u001b[39;00m\n\u001b[0;32m----> 3\u001b[0m plt\u001b[38;5;241m.\u001b[39mplot(\u001b[43mMLII\u001b[49m\u001b[38;5;241m.\u001b[39mvalues[:\u001b[38;5;241m1000\u001b[39m], label \u001b[38;5;241m=\u001b[39m \u001b[38;5;124m'\u001b[39m\u001b[38;5;124moriginal\u001b[39m\u001b[38;5;124m'\u001b[39m, alpha \u001b[38;5;241m=\u001b[39m \u001b[38;5;241m0.7\u001b[39m, linewidth \u001b[38;5;241m=\u001b[39m \u001b[38;5;241m5\u001b[39m)\n\u001b[1;32m      4\u001b[0m plt\u001b[38;5;241m.\u001b[39mplot(MLII_notch[:\u001b[38;5;241m1000\u001b[39m], label \u001b[38;5;241m=\u001b[39m\u001b[38;5;124m'\u001b[39m\u001b[38;5;124mALL\u001b[39m\u001b[38;5;124m'\u001b[39m, alpha \u001b[38;5;241m=\u001b[39m \u001b[38;5;241m0.5\u001b[39m)\n\u001b[1;32m      5\u001b[0m plt\u001b[38;5;241m.\u001b[39mlegend()\n",
      "\u001b[0;31mNameError\u001b[0m: name 'MLII' is not defined"
     ]
    }
   ],
   "source": [
    "#Show difference from original and processed signal\n",
    "\n",
    "plt.plot(MLII.values[:1000], label = 'original', alpha = 0.7, linewidth = 5)\n",
    "plt.plot(MLII_notch[:1000], label ='ALL', alpha = 0.5)\n",
    "plt.legend()\n",
    "plt.show()\n"
   ]
  },
  {
   "cell_type": "code",
   "execution_count": 13,
   "metadata": {},
   "outputs": [
    {
     "data": {
      "text/plain": [
       "<matplotlib.legend.Legend at 0x2bf0fb050>"
      ]
     },
     "execution_count": 13,
     "metadata": {},
     "output_type": "execute_result"
    },
    {
     "data": {
      "image/png": "[encoded data removed]",
      "text/plain": [
       "<Figure size 640x480 with 1 Axes>"
      ]
     },
     "metadata": {},
     "output_type": "display_data"
    }
   ],
   "source": [
    "# All signals plotted\n",
    "\n",
    "plt.plot(MLII.values[:1000], label = 'original', alpha = 0.7)\n",
    "plt.plot(MLII_SMA.values[:1000], label = 'SMA', alpha = 0.3)\n",
    "plt.plot(MLII_medfilt[:1000], label = 'medfilt', alpha = 0.3)\n",
    "plt.plot(MLII_sos[:1000], label = 'sos', alpha = 0.3)\n",
    "plt.plot(MLII_notch[:1000], label = 'notch', alpha = 0.3)\n",
    "plt.legend()"
   ]
  },
  {
   "cell_type": "code",
   "execution_count": null,
   "metadata": {},
   "outputs": [],
   "source": [
    "####  The following Code is not likely to work without further development.  \n",
    "####  Left here as a starting place for passing processed data."
   ]
  },
  {
   "cell_type": "code",
   "execution_count": null,
   "metadata": {},
   "outputs": [],
   "source": [
    "df_wide = pd.read_csv(data_dir + random_file_choice[0], names = ['Lead-'+ str(f) for f in range(1,13)])\n",
    "\n",
    "plt.figure(figsize=(20, 15))\n",
    "plt.rcParams.update({'font.size': 15})\n",
    "\n",
    "for idx, feature_name in enumerate(df_wide.columns):\n",
    "    ax = plt.subplot(3, 4, idx+1)\n",
    "    df_feat = df_wide[feature_name].reset_index()\n",
    "    prediction_length = 50\n",
    "    context_length = 200\n",
    "    context_start_position = len(df_feat) - prediction_length - context_length\n",
    "    context = df_feat[feature_name].values[context_start_position:context_start_position+context_length]\n",
    "    true_ts = df_feat[feature_name].values[context_start_position:]\n",
    "    forecast = pipeline.predict(\n",
    "        context,\n",
    "        prediction_length,\n",
    "        num_samples=20,\n",
    "        temperature=1.0,\n",
    "        top_k=100,\n",
    "        top_p=1,\n",
    "    ) # forecast shape: [num_series, num_samples, prediction_length]\n",
    "\n",
    "    # visualize the forecast\n",
    "    ts_index = range(len(df_feat)-prediction_length*4, len(df_feat))\n",
    "    forecast_index = range(context_start_position+context_length, len(df_feat))\n",
    "    low, median, high = np.quantile(forecast[0], [0.1, 0.5, 0.9], axis=0)\n",
    "\n",
    "    # plt.figure(figsize=(8, 4))\n",
    "    ax.plot(ts_index, df_feat[feature_name].values[-prediction_length*4:], color=\"royalblue\", label=\"historical data\")\n",
    "    ax.plot(forecast_index, median, color=\"tomato\", label=\"median forecast\")\n",
    "    ax.fill_between(forecast_index, low, high, color=\"tomato\", alpha=0.3, label=\"80% prediction interval\")\n",
    "    ax.set_title(feature_name)    \n",
    "\n",
    "    ax.grid()\n",
    "\n",
    "plt.tight_layout()\n",
    "plt.legend(loc='upper left', bbox_to_anchor=(1, 2))\n",
    "plt.suptitle('Chronos - ECG Leads (Denoised)', y=1.03, fontsize = 30)\n",
    "plt.show()\n"
   ]
  },
  {
   "cell_type": "code",
   "execution_count": null,
   "metadata": {},
   "outputs": [],
   "source": [
    "df_wide = pd.read_csv(data_dir + standard_ecg_dir + random_file_choice[0], header=0, names = ['Lead-'+ str(f) for f in range(1,13)])\n",
    "\n",
    "plt.figure(figsize=(20, 15))\n",
    "plt.rcParams.update({'font.size': 15})\n",
    "\n",
    "for idx, feature_name in enumerate(df_wide.columns):\n",
    "    ax = plt.subplot(3, 4, idx+1)\n",
    "    df_feat = df_wide[feature_name].reset_index()\n",
    "    prediction_length = 50\n",
    "    context_length = 200\n",
    "    context_start_position = len(df_feat) - prediction_length - context_length\n",
    "    context = df_feat[feature_name].values[context_start_position:context_start_position+context_length]\n",
    "    true_ts = df_feat[feature_name].values[context_start_position:]\n",
    "    forecast = pipeline.predict(\n",
    "        context,\n",
    "        prediction_length,\n",
    "        num_samples=100,\n",
    "        temperature=1,\n",
    "        top_k=100,\n",
    "        top_p=1.0,\n",
    "    ) # forecast shape: [num_series, num_samples, prediction_length]\n",
    "\n",
    "    # visualize the forecast\n",
    "    ts_index = range(len(df_feat)-prediction_length*4, len(df_feat))\n",
    "    forecast_index = range(context_start_position+context_length, len(df_feat))\n",
    "    low, median, high = np.quantile(forecast[0], [0.1, 0.5, 0.9], axis=0)\n",
    "\n",
    "    # plt.figure(figsize=(8, 4))\n",
    "    ax.plot(ts_index, df_feat[feature_name].values[-prediction_length*4:], color=\"royalblue\", label=\"historical data\")\n",
    "    ax.plot(forecast_index, median, color=\"tomato\", label=\"median forecast\")\n",
    "    ax.fill_between(forecast_index, low, high, color=\"tomato\", alpha=0.3, label=\"80% prediction interval\")\n",
    "    ax.set_title(feature_name)    \n",
    "\n",
    "    ax.grid()\n",
    "\n",
    "plt.tight_layout()\n",
    "plt.legend(loc='upper left', bbox_to_anchor=(1, 2))\n",
    "plt.suptitle('Chronos - ECG Leads (Noisy)', y=1.03, fontsize = 30)\n",
    "plt.show()"
   ]
  },
  {
   "cell_type": "code",
   "execution_count": null,
   "metadata": {},
   "outputs": [],
   "source": []
  }
 ],
 "metadata": {
  "kernelspec": {
   "display_name": "chronos-forecasting",
   "language": "python",
   "name": "chronos-forecasting"
  },
  "language_info": {
   "codemirror_mode": {
    "name": "ipython",
    "version": 3
   },
   "file_extension": ".py",
   "mimetype": "text/x-python",
   "name": "python",
   "nbconvert_exporter": "python",
   "pygments_lexer": "ipython3",
   "version": "3.10.8"
  }
 },
 "nbformat": 4,
 "nbformat_minor": 2
}
